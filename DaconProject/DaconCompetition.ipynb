{
  "cells": [
    {
      "cell_type": "markdown",
      "id": "aqlxnzIFYMa3",
      "metadata": {
        "id": "aqlxnzIFYMa3"
      },
      "source": [
        "참고 코드\n",
        "https://wikidocs.net/103802"
      ]
    },
    {
      "cell_type": "markdown",
      "id": "e3550806-e691-49de-8ed9-ebae92bd3867",
      "metadata": {
        "id": "e3550806-e691-49de-8ed9-ebae92bd3867"
      },
      "source": [
        "## Import"
      ]
    },
    {
      "cell_type": "code",
      "execution_count": null,
      "id": "b84c8f41-8c9f-4e9c-9969-e98541e822af",
      "metadata": {
        "id": "b84c8f41-8c9f-4e9c-9969-e98541e822af"
      },
      "outputs": [],
      "source": [
        "import pandas as pd\n",
        "import random\n",
        "import os\n",
        "import numpy as np\n",
        "import keras\n",
        "import tensorflow as tf\n",
        "import matplotlib.pyplot as plt\n",
        "\n",
        "\n",
        "from keras.wrappers.scikit_learn import KerasClassifier\n",
        "from sklearn.model_selection import cross_val_score, GridSearchCV\n",
        "from sklearn import preprocessing\n",
        "from sklearn.neural_network import MLPClassifier\n",
        "from sklearn.ensemble import RandomForestClassifier\n",
        "from sklearn.ensemble import VotingClassifier\n",
        "from xgboost import XGBClassifier\n"
      ]
    },
    {
      "cell_type": "code",
      "execution_count": null,
      "id": "824a7f14-b0f5-49c8-b030-1fe9873c46f9",
      "metadata": {
        "id": "824a7f14-b0f5-49c8-b030-1fe9873c46f9"
      },
      "outputs": [],
      "source": [
        "class CFG:\n",
        "    SEED = 42"
      ]
    },
    {
      "cell_type": "code",
      "execution_count": null,
      "id": "1d06422f-e260-46ad-846f-0cfa40d2801b",
      "metadata": {
        "id": "1d06422f-e260-46ad-846f-0cfa40d2801b"
      },
      "outputs": [],
      "source": [
        "def seed_everything(seed):\n",
        "    random.seed(seed)\n",
        "    os.environ['PYTHONHASHSEED'] = str(seed)\n",
        "    np.random.seed(seed)\n",
        "seed_everything(CFG.SEED) # Seed 固定"
      ]
    },
    {
      "cell_type": "markdown",
      "id": "b9e7de47-f4b8-4589-b9d3-e353a975e939",
      "metadata": {
        "id": "b9e7de47-f4b8-4589-b9d3-e353a975e939"
      },
      "source": [
        "## Data Load"
      ]
    },
    {
      "cell_type": "code",
      "execution_count": null,
      "id": "34f899fd-fbb4-48bc-9ec5-3eb5a68564cb",
      "metadata": {
        "id": "34f899fd-fbb4-48bc-9ec5-3eb5a68564cb"
      },
      "outputs": [],
      "source": [
        "train = pd.read_csv('./train.csv')\n",
        "test = pd.read_csv('./test.csv')"
      ]
    },
    {
      "cell_type": "code",
      "execution_count": null,
      "id": "72b37f7e-a9f2-4640-8a0c-80ecdc626740",
      "metadata": {
        "id": "72b37f7e-a9f2-4640-8a0c-80ecdc626740"
      },
      "outputs": [],
      "source": [
        "def get_x_y(df):\n",
        "    if 'class' in df.columns:\n",
        "        df_x = df.drop(columns=['id', 'class'])\n",
        "        df_y = df['class']\n",
        "        return df_x, df_y\n",
        "    else:\n",
        "        df_x = df.drop(columns=['id'])\n",
        "        return df_x"
      ]
    },
    {
      "cell_type": "code",
      "execution_count": null,
      "id": "05bd5dc3-5caf-4691-a836-d05d79353a5d",
      "metadata": {
        "id": "05bd5dc3-5caf-4691-a836-d05d79353a5d"
      },
      "outputs": [],
      "source": [
        "train_x, train_y = get_x_y(train)\n",
        "test_x = get_x_y(test)"
      ]
    },
    {
      "cell_type": "markdown",
      "id": "BCPvN9BoefSs",
      "metadata": {
        "id": "BCPvN9BoefSs"
      },
      "source": [
        "# EDA"
      ]
    },
    {
      "cell_type": "code",
      "execution_count": null,
      "id": "un1VyP8NeewM",
      "metadata": {
        "colab": {
          "base_uri": "https://localhost:8080/",
          "height": 494
        },
        "id": "un1VyP8NeewM",
        "outputId": "be03f02d-4309-4cd7-d996-c9b16e8e4106"
      },
      "outputs": [
        {
          "name": "stderr",
          "output_type": "stream",
          "text": [
            "/usr/local/lib/python3.8/dist-packages/matplotlib/backends/backend_agg.py:214: RuntimeWarning: Glyph 48324 missing from current font.\n",
            "  font.set_text(s, 0.0, flags=flags)\n",
            "/usr/local/lib/python3.8/dist-packages/matplotlib/backends/backend_agg.py:214: RuntimeWarning: Glyph 49688 missing from current font.\n",
            "  font.set_text(s, 0.0, flags=flags)\n",
            "/usr/local/lib/python3.8/dist-packages/matplotlib/backends/backend_agg.py:183: RuntimeWarning: Glyph 48324 missing from current font.\n",
            "  font.set_text(s, 0, flags=flags)\n",
            "/usr/local/lib/python3.8/dist-packages/matplotlib/backends/backend_agg.py:183: RuntimeWarning: Glyph 49688 missing from current font.\n",
            "  font.set_text(s, 0, flags=flags)\n"
          ]
        },
        {
          "data": {
            "image/png": "[encoded data removed]",
            "text/plain": [
              "<Figure size 720x360 with 1 Axes>"
            ]
          },
          "metadata": {
            "needs_background": "light"
          },
          "output_type": "display_data"
        }
      ],
      "source": [
        "plt.figure(figsize=(10,5)) \n",
        "train_y.value_counts().plot(kind='bar')\n",
        "plt.xlabel('class')\n",
        "plt.ylabel('count')\n",
        "plt.title('class별 target 수')\n",
        "plt.show() "
      ]
    },
    {
      "cell_type": "markdown",
      "id": "8f79fbb3-bdd5-4bf7-bcc2-3776f1de653b",
      "metadata": {
        "id": "8f79fbb3-bdd5-4bf7-bcc2-3776f1de653b"
      },
      "source": [
        "## Data Pre-processing\n",
        "### Label-Encoding"
      ]
    },
    {
      "cell_type": "code",
      "execution_count": null,
      "id": "689a42a5-140f-4282-9f33-6b319dea89a5",
      "metadata": {
        "id": "689a42a5-140f-4282-9f33-6b319dea89a5"
      },
      "outputs": [],
      "source": [
        "class_le = preprocessing.LabelEncoder()\n",
        "snp_le = preprocessing.LabelEncoder()\n",
        "snp_col = [f'SNP_{str(x).zfill(2)}' for x in range(1,16)]"
      ]
    },
    {
      "cell_type": "code",
      "execution_count": null,
      "id": "2329a4f8-92b2-484d-acbd-2bb8079929e7",
      "metadata": {
        "id": "2329a4f8-92b2-484d-acbd-2bb8079929e7"
      },
      "outputs": [],
      "source": [
        "snp_data = []\n",
        "for col in snp_col:\n",
        "    snp_data += list(train_x[col].values)"
      ]
    },
    {
      "cell_type": "code",
      "execution_count": null,
      "id": "be7c4c4e-9c40-4c2e-bbce-5109dc16e802",
      "metadata": {
        "colab": {
          "base_uri": "https://localhost:8080/"
        },
        "id": "be7c4c4e-9c40-4c2e-bbce-5109dc16e802",
        "outputId": "e6d4f1d7-4dbe-42f7-b0a6-4744f9f3fbd6"
      },
      "outputs": [
        {
          "data": {
            "text/plain": [
              "LabelEncoder()"
            ]
          },
          "execution_count": 10,
          "metadata": {},
          "output_type": "execute_result"
        }
      ],
      "source": [
        "train_y = class_le.fit_transform(train_y)\n",
        "snp_le.fit(snp_data)"
      ]
    },
    {
      "cell_type": "code",
      "execution_count": null,
      "id": "6a6855cf-8261-45dd-b18b-660aaf0ab141",
      "metadata": {
        "id": "6a6855cf-8261-45dd-b18b-660aaf0ab141"
      },
      "outputs": [],
      "source": [
        "\n",
        "for col in train_x.columns:\n",
        "    if col in snp_col:\n",
        "        train_x[col] = snp_le.transform(train_x[col])\n",
        "        test_x[col] = snp_le.transform(test_x[col])\n"
      ]
    },
    {
      "cell_type": "markdown",
      "id": "eKzG0GbMrsxz",
      "metadata": {
        "id": "eKzG0GbMrsxz"
      },
      "source": [
        "# Transformer"
      ]
    },
    {
      "cell_type": "code",
      "execution_count": null,
      "id": "j7M4Xzsy52ZB",
      "metadata": {
        "id": "j7M4Xzsy52ZB"
      },
      "outputs": [],
      "source": [
        "class MultiHeadAttention(tf.keras.layers.Layer):\n",
        "    def __init__(self, embedding_dim, num_heads=8):\n",
        "        super(MultiHeadAttention, self).__init__()\n",
        "        self.embedding_dim = embedding_dim # d_model\n",
        "        self.num_heads = num_heads\n",
        "\n",
        "        assert embedding_dim % self.num_heads == 0\n",
        "\n",
        "        self.projection_dim = embedding_dim // num_heads\n",
        "        self.query_dense = tf.keras.layers.Dense(embedding_dim)\n",
        "        self.key_dense = tf.keras.layers.Dense(embedding_dim)\n",
        "        self.value_dense = tf.keras.layers.Dense(embedding_dim)\n",
        "        self.dense = tf.keras.layers.Dense(embedding_dim)\n",
        "\n",
        "    def scaled_dot_product_attention(self, query, key, value):\n",
        "        matmul_qk = tf.matmul(query, key, transpose_b=True)\n",
        "        depth = tf.cast(tf.shape(key)[-1], tf.float32)\n",
        "        logits = matmul_qk / tf.math.sqrt(depth)\n",
        "        attention_weights = tf.nn.softmax(logits, axis=-1)\n",
        "        output = tf.matmul(attention_weights, value)\n",
        "        return output, attention_weights\n",
        "\n",
        "    def split_heads(self, x, batch_size):\n",
        "        x = tf.reshape(x, (batch_size, -1, self.num_heads, self.projection_dim))\n",
        "        return tf.transpose(x, perm=[0, 2, 1, 3])\n",
        "\n",
        "    def call(self, inputs):\n",
        "        batch_size = tf.shape(inputs)[0]\n",
        "\n",
        "        query = self.query_dense(inputs)\n",
        "        key = self.key_dense(inputs)\n",
        "        value = self.value_dense(inputs)\n",
        "\n",
        "        query = self.split_heads(query, batch_size)  \n",
        "        key = self.split_heads(key, batch_size)\n",
        "        value = self.split_heads(value, batch_size)\n",
        "\n",
        "        scaled_attention, _ = self.scaled_dot_product_attention(query, key, value)\n",
        "        scaled_attention = tf.transpose(scaled_attention, perm=[0, 2, 1, 3])  \n",
        "\n",
        "        concat_attention = tf.reshape(scaled_attention, (batch_size, -1, self.embedding_dim))\n",
        "        outputs = self.dense(concat_attention)\n",
        "        return outputs"
      ]
    },
    {
      "cell_type": "code",
      "execution_count": null,
      "id": "LI6OAEPANAEO",
      "metadata": {
        "id": "LI6OAEPANAEO"
      },
      "outputs": [],
      "source": [
        "class TransformerBlock(tf.keras.layers.Layer):\n",
        "    def __init__(self, embedding_dim, num_heads, dff, rate=0.1):\n",
        "        super(TransformerBlock, self).__init__()\n",
        "        self.att = MultiHeadAttention(embedding_dim, num_heads)\n",
        "        self.ffn = tf.keras.Sequential(\n",
        "            [tf.keras.layers.Dense(dff, activation=\"relu\"),\n",
        "             tf.keras.layers.Dense(embedding_dim),]\n",
        "        )\n",
        "        self.layernorm1 = tf.keras.layers.LayerNormalization(epsilon=1e-6)\n",
        "        self.layernorm2 = tf.keras.layers.LayerNormalization(epsilon=1e-6)\n",
        "        self.dropout1 = tf.keras.layers.Dropout(rate)\n",
        "        self.dropout2 = tf.keras.layers.Dropout(rate)\n",
        "\n",
        "    def call(self, inputs, training):\n",
        "        attn_output = self.att(inputs) # 最初のサブレイヤー：マルチヘッドアテンション\n",
        "        attn_output = self.dropout1(attn_output, training=training)\n",
        "        out1 = self.layernorm1(inputs + attn_output) # Add & Norm\n",
        "        ffn_output = self.ffn(out1) # 2番目のサブレイヤー：ポジションワイズフィードフォワードニューラルネットワーク\n",
        "        ffn_output = self.dropout2(ffn_output, training=training)\n",
        "        return self.layernorm2(out1 + ffn_output) # Add & Norm"
      ]
    },
    {
      "cell_type": "code",
      "execution_count": null,
      "id": "FdlLNkkrNBY-",
      "metadata": {
        "id": "FdlLNkkrNBY-"
      },
      "outputs": [],
      "source": [
        "class TokenAndPositionEmbedding(tf.keras.layers.Layer):\n",
        "    def __init__(self, max_len, vocab_size, embedding_dim):\n",
        "        super(TokenAndPositionEmbedding, self).__init__()\n",
        "        self.token_emb = tf.keras.layers.Embedding(vocab_size, embedding_dim)\n",
        "        self.pos_emb = tf.keras.layers.Embedding(max_len, embedding_dim)\n",
        "\n",
        "    def call(self, x):\n",
        "        max_len = tf.shape(x)[-1]\n",
        "        positions = tf.range(start=0, limit=max_len, delta=1)\n",
        "        positions = self.pos_emb(positions)\n",
        "        x = self.token_emb(x)\n",
        "        return x + positions"
      ]
    },
    {
      "cell_type": "code",
      "execution_count": null,
      "id": "hShgolCVNC5U",
      "metadata": {
        "colab": {
          "base_uri": "https://localhost:8080/"
        },
        "id": "hShgolCVNC5U",
        "outputId": "981f2514-7bb9-4141-ff37-56ece93c8fd9"
      },
      "outputs": [
        {
          "name": "stdout",
          "output_type": "stream",
          "text": [
            "훈련용 리뷰 개수 : 262\n",
            "테스트용 리뷰 개수 : 175\n"
          ]
        }
      ],
      "source": [
        "vocab_size = 128  \n",
        "max_len = 19 \n"
      ]
    },
    {
      "cell_type": "code",
      "execution_count": null,
      "id": "yyUryqupOgG3",
      "metadata": {
        "id": "yyUryqupOgG3"
      },
      "outputs": [],
      "source": [
        "def transformer():\n",
        "  embedding_dim = 32  # Embedding Vector の次元\n",
        "  num_heads = 2  # アテンションヘッドの数\n",
        "  dff = 32  # ポジションワイズニューラルネットワークの隠れ層サイズ\n",
        "\n",
        "  inputs = tf.keras.layers.Input(shape=(max_len,))\n",
        "  embedding_layer = TokenAndPositionEmbedding(max_len, vocab_size, embedding_dim)\n",
        "  x = embedding_layer(inputs)\n",
        "  \n",
        "  x = tf.keras.layers.Conv1D(filters = 64, kernel_size = 2, padding='valid', activation='relu')(x)\n",
        "  x = tf.keras.layers.GlobalMaxPooling1D()(x)\n",
        "  \n",
        "  transformer_block = TransformerBlock(64, num_heads, dff)\n",
        "  x = transformer_block(x)\n",
        "  x = tf.keras.layers.GlobalAveragePooling1D()(x)\n",
        "  x = tf.keras.layers.Dropout(0.1)(x)\n",
        "  x = tf.keras.layers.Dense(32, activation=\"relu\")(x)\n",
        "  x = tf.keras.layers.Dropout(0.1)(x)\n",
        "  outputs = tf.keras.layers.Dense(3, activation=\"softmax\")(x)\n",
        "  model = tf.keras.Model(inputs=inputs, outputs=outputs)\n",
        "  adam = keras.optimizers.Adam(learning_rate = 0.001)\n",
        "  model.compile(optimizer = adam, loss = \"sparse_categorical_crossentropy\", metrics=[\"accuracy\"])\n",
        "  return model"
      ]
    },
    {
      "cell_type": "code",
      "execution_count": null,
      "id": "droW51Rzo6p7",
      "metadata": {
        "colab": {
          "base_uri": "https://localhost:8080/"
        },
        "id": "droW51Rzo6p7",
        "outputId": "ff1f081e-e384-420f-a130-6408ebbaf16a"
      },
      "outputs": [
        {
          "name": "stderr",
          "output_type": "stream",
          "text": [
            "<ipython-input-17-a7c06bf71cf7>:1: DeprecationWarning: KerasClassifier is deprecated, use Sci-Keras (https://github.com/adriangb/scikeras) instead. See https://www.adriangb.com/scikeras/stable/migration.html for help migrating.\n",
            "  model = KerasClassifier(build_fn=transformer, epochs=90, batch_size=32, verbose=0)\n"
          ]
        }
      ],
      "source": [
        "model = KerasClassifier(build_fn=transformer, epochs=90, batch_size=32, verbose=0)\n",
        "model._estimator_type=\"classifier\""
      ]
    },
    {
      "cell_type": "code",
      "execution_count": null,
      "id": "LGHlJey-icNZ",
      "metadata": {
        "colab": {
          "base_uri": "https://localhost:8080/"
        },
        "id": "LGHlJey-icNZ",
        "outputId": "b1a98b14-c980-458d-9caa-a3448db4cece"
      },
      "outputs": [
        {
          "data": {
            "text/plain": [
              "<keras.callbacks.History at 0x7f57b9795d60>"
            ]
          },
          "execution_count": 18,
          "metadata": {},
          "output_type": "execute_result"
        }
      ],
      "source": [
        "model.fit(train_x, train_y, batch_size=32, epochs=2000)"
      ]
    },
    {
      "cell_type": "code",
      "execution_count": null,
      "id": "pYou66fUG_qZ",
      "metadata": {
        "id": "pYou66fUG_qZ"
      },
      "outputs": [],
      "source": [
        "params = {\n",
        "    'batch_size':[16, 32],\n",
        "    'epochs':[60, 80, 90, 120, 150],\n",
        "}"
      ]
    },
    {
      "cell_type": "code",
      "execution_count": null,
      "id": "_tbX6l3RNLFT",
      "metadata": {
        "colab": {
          "base_uri": "https://localhost:8080/"
        },
        "id": "_tbX6l3RNLFT",
        "outputId": "9aa7464b-48c4-4d82-adde-61f1484ada8a"
      },
      "outputs": [
        {
          "name": "stdout",
          "output_type": "stream",
          "text": [
            "6/6 [==============================] - 0s 7ms/step\n"
          ]
        },
        {
          "data": {
            "text/plain": [
              "array([0, 1, 2, 2, 0, 1, 2, 1, 0, 0, 2, 1, 2, 0, 1, 1, 0, 1, 1, 2, 1, 1,\n",
              "       1, 0, 1, 1, 1, 0, 0, 1, 0, 0, 1, 2, 0, 2, 2, 1, 1, 2, 0, 1, 2, 1,\n",
              "       1, 1, 1, 2, 1, 2, 0, 1, 0, 1, 1, 1, 2, 0, 1, 2, 0, 1, 2, 2, 2, 0,\n",
              "       0, 0, 0, 1, 1, 1, 0, 0, 2, 1, 2, 1, 1, 1, 2, 1, 0, 1, 1, 1, 1, 1,\n",
              "       2, 0, 1, 1, 2, 1, 1, 2, 0, 1, 0, 2, 0, 1, 1, 1, 0, 0, 2, 1, 0, 1,\n",
              "       2, 1, 1, 1, 1, 0, 0, 2, 1, 2, 0, 1, 1, 2, 2, 1, 2, 1, 0, 1, 0, 0,\n",
              "       1, 1, 1, 2, 0, 0, 1, 0, 0, 0, 2, 1, 1, 1, 0, 1, 2, 0, 0, 1, 0, 1,\n",
              "       1, 0, 0, 1, 2, 0, 1, 2, 2, 1, 0, 0, 2, 1, 1, 0, 1, 2, 2, 1, 1])"
            ]
          },
          "execution_count": 20,
          "metadata": {},
          "output_type": "execute_result"
        }
      ],
      "source": [
        "predictions = model.predict(test_x)\n",
        "predictions"
      ]
    },
    {
      "cell_type": "code",
      "execution_count": null,
      "id": "on-iFMKFbeyf",
      "metadata": {
        "colab": {
          "base_uri": "https://localhost:8080/"
        },
        "id": "on-iFMKFbeyf",
        "outputId": "0eceace4-4b22-4018-ee3d-19282a3986bd"
      },
      "outputs": [
        {
          "name": "stderr",
          "output_type": "stream",
          "text": [
            "WARNING:tensorflow:5 out of the last 9 calls to <function Model.make_test_function.<locals>.test_function at 0x7f573c1f4790> triggered tf.function retracing. Tracing is expensive and the excessive number of tracings could be due to (1) creating @tf.function repeatedly in a loop, (2) passing tensors with different shapes, (3) passing Python objects instead of tensors. For (1), please define your @tf.function outside of the loop. For (2), @tf.function has reduce_retracing=True option that can avoid unnecessary retracing. For (3), please refer to https://www.tensorflow.org/guide/function#controlling_retracing and https://www.tensorflow.org/api_docs/python/tf/function for  more details.\n"
          ]
        },
        {
          "data": {
            "text/plain": [
              "array([0.9245283 , 0.88679248, 0.94230771, 0.96153843, 0.96153843])"
            ]
          },
          "execution_count": 21,
          "metadata": {},
          "output_type": "execute_result"
        }
      ],
      "source": [
        "cross_val_score(model , train_x, train_y, cv=5) "
      ]
    },
    {
      "cell_type": "markdown",
      "id": "f7611963-8c2f-484a-8d9f-01b89db7d162",
      "metadata": {
        "id": "f7611963-8c2f-484a-8d9f-01b89db7d162"
      },
      "source": [
        "## Inference"
      ]
    },
    {
      "cell_type": "code",
      "execution_count": null,
      "id": "971e792e-abe0-4e31-a08c-91447057b15a",
      "metadata": {
        "colab": {
          "base_uri": "https://localhost:8080/"
        },
        "id": "971e792e-abe0-4e31-a08c-91447057b15a",
        "outputId": "c2d1f5df-65b2-43a3-a291-21e47f308a18"
      },
      "outputs": [
        {
          "name": "stdout",
          "output_type": "stream",
          "text": [
            "Done.\n"
          ]
        }
      ],
      "source": [
        "preds = predictions\n",
        "print('Done.')"
      ]
    },
    {
      "cell_type": "markdown",
      "id": "bd16b405-8a2d-4567-aebf-79ad596a1cd9",
      "metadata": {
        "id": "bd16b405-8a2d-4567-aebf-79ad596a1cd9"
      },
      "source": [
        "## Submission"
      ]
    },
    {
      "cell_type": "code",
      "execution_count": null,
      "id": "4fd0adb4-81ad-4474-8d31-51dff217f5c0",
      "metadata": {
        "id": "4fd0adb4-81ad-4474-8d31-51dff217f5c0"
      },
      "outputs": [],
      "source": [
        "submit = pd.read_csv('./sample_submission.csv')"
      ]
    },
    {
      "cell_type": "code",
      "execution_count": null,
      "id": "2875bcba-91d1-4ecc-a839-370a16f14b54",
      "metadata": {
        "id": "2875bcba-91d1-4ecc-a839-370a16f14b54"
      },
      "outputs": [],
      "source": [
        "submit['class'] = class_le.inverse_transform(preds)"
      ]
    },
    {
      "cell_type": "code",
      "execution_count": null,
      "id": "dHUwlEL1WZXQ",
      "metadata": {
        "colab": {
          "base_uri": "https://localhost:8080/"
        },
        "id": "dHUwlEL1WZXQ",
        "outputId": "285b3985-9b5f-4f2c-d302-15d6f01dc080"
      },
      "outputs": [
        {
          "data": {
            "text/html": [
              "\n",
              "  <div id=\"df-8237b0e4-24f2-43cb-8ea7-2d3786ad86eb\">\n",
              "    <div class=\"colab-df-container\">\n",
              "      <div>\n",
              "<style scoped>\n",
              "    .dataframe tbody tr th:only-of-type {\n",
              "        vertical-align: middle;\n",
              "    }\n",
              "\n",
              "    .dataframe tbody tr th {\n",
              "        vertical-align: top;\n",
              "    }\n",
              "\n",
              "    .dataframe thead th {\n",
              "        text-align: right;\n",
              "    }\n",
              "</style>\n",
              "<table border=\"1\" class=\"dataframe\">\n",
              "  <thead>\n",
              "    <tr style=\"text-align: right;\">\n",
              "      <th></th>\n",
              "      <th>id</th>\n",
              "      <th>class</th>\n",
              "    </tr>\n",
              "  </thead>\n",
              "  <tbody>\n",
              "    <tr>\n",
              "      <th>0</th>\n",
              "      <td>TEST_000</td>\n",
              "      <td>A</td>\n",
              "    </tr>\n",
              "    <tr>\n",
              "      <th>1</th>\n",
              "      <td>TEST_001</td>\n",
              "      <td>B</td>\n",
              "    </tr>\n",
              "    <tr>\n",
              "      <th>2</th>\n",
              "      <td>TEST_002</td>\n",
              "      <td>C</td>\n",
              "    </tr>\n",
              "    <tr>\n",
              "      <th>3</th>\n",
              "      <td>TEST_003</td>\n",
              "      <td>C</td>\n",
              "    </tr>\n",
              "    <tr>\n",
              "      <th>4</th>\n",
              "      <td>TEST_004</td>\n",
              "      <td>A</td>\n",
              "    </tr>\n",
              "    <tr>\n",
              "      <th>...</th>\n",
              "      <td>...</td>\n",
              "      <td>...</td>\n",
              "    </tr>\n",
              "    <tr>\n",
              "      <th>170</th>\n",
              "      <td>TEST_170</td>\n",
              "      <td>B</td>\n",
              "    </tr>\n",
              "    <tr>\n",
              "      <th>171</th>\n",
              "      <td>TEST_171</td>\n",
              "      <td>C</td>\n",
              "    </tr>\n",
              "    <tr>\n",
              "      <th>172</th>\n",
              "      <td>TEST_172</td>\n",
              "      <td>C</td>\n",
              "    </tr>\n",
              "    <tr>\n",
              "      <th>173</th>\n",
              "      <td>TEST_173</td>\n",
              "      <td>B</td>\n",
              "    </tr>\n",
              "    <tr>\n",
              "      <th>174</th>\n",
              "      <td>TEST_174</td>\n",
              "      <td>B</td>\n",
              "    </tr>\n",
              "  </tbody>\n",
              "</table>\n",
              "<p>175 rows × 2 columns</p>\n",
              "</div>\n",
              "      <button class=\"colab-df-convert\" onclick=\"convertToInteractive('df-8237b0e4-24f2-43cb-8ea7-2d3786ad86eb')\"\n",
              "              title=\"Convert this dataframe to an interactive table.\"\n",
              "              style=\"display:none;\">\n",
              "        \n",
              "  <svg xmlns=\"http://www.w3.org/2000/svg\" height=\"24px\"viewBox=\"0 0 24 24\"\n",
              "       width=\"24px\">\n",
              "    <path d=\"M0 0h24v24H0V0z\" fill=\"none\"/>\n",
              "    <path d=\"M18.56 5.44l.94 2.06.94-2.06 2.06-.94-2.06-.94-.94-2.06-.94 2.06-2.06.94zm-11 1L8.5 8.5l.94-2.06 2.06-.94-2.06-.94L8.5 2.5l-.94 2.06-2.06.94zm10 10l.94 2.06.94-2.06 2.06-.94-2.06-.94-.94-2.06-.94 2.06-2.06.94z\"/><path d=\"M17.41 7.96l-1.37-1.37c-.4-.4-.92-.59-1.43-.59-.52 0-1.04.2-1.43.59L10.3 9.45l-7.72 7.72c-.78.78-.78 2.05 0 2.83L4 21.41c.39.39.9.59 1.41.59.51 0 1.02-.2 1.41-.59l7.78-7.78 2.81-2.81c.8-.78.8-2.07 0-2.86zM5.41 20L4 18.59l7.72-7.72 1.47 1.35L5.41 20z\"/>\n",
              "  </svg>\n",
              "      </button>\n",
              "      \n",
              "  <style>\n",
              "    .colab-df-container {\n",
              "      display:flex;\n",
              "      flex-wrap:wrap;\n",
              "      gap: 12px;\n",
              "    }\n",
              "\n",
              "    .colab-df-convert {\n",
              "      background-color: #E8F0FE;\n",
              "      border: none;\n",
              "      border-radius: 50%;\n",
              "      cursor: pointer;\n",
              "      display: none;\n",
              "      fill: #1967D2;\n",
              "      height: 32px;\n",
              "      padding: 0 0 0 0;\n",
              "      width: 32px;\n",
              "    }\n",
              "\n",
              "    .colab-df-convert:hover {\n",
              "      background-color: #E2EBFA;\n",
              "      box-shadow: 0px 1px 2px rgba(60, 64, 67, 0.3), 0px 1px 3px 1px rgba(60, 64, 67, 0.15);\n",
              "      fill: #174EA6;\n",
              "    }\n",
              "\n",
              "    [theme=dark] .colab-df-convert {\n",
              "      background-color: #3B4455;\n",
              "      fill: #D2E3FC;\n",
              "    }\n",
              "\n",
              "    [theme=dark] .colab-df-convert:hover {\n",
              "      background-color: #434B5C;\n",
              "      box-shadow: 0px 1px 3px 1px rgba(0, 0, 0, 0.15);\n",
              "      filter: drop-shadow(0px 1px 2px rgba(0, 0, 0, 0.3));\n",
              "      fill: #FFFFFF;\n",
              "    }\n",
              "  </style>\n",
              "\n",
              "      <script>\n",
              "        const buttonEl =\n",
              "          document.querySelector('#df-8237b0e4-24f2-43cb-8ea7-2d3786ad86eb button.colab-df-convert');\n",
              "        buttonEl.style.display =\n",
              "          google.colab.kernel.accessAllowed ? 'block' : 'none';\n",
              "\n",
              "        async function convertToInteractive(key) {\n",
              "          const element = document.querySelector('#df-8237b0e4-24f2-43cb-8ea7-2d3786ad86eb');\n",
              "          const dataTable =\n",
              "            await google.colab.kernel.invokeFunction('convertToInteractive',\n",
              "                                                     [key], {});\n",
              "          if (!dataTable) return;\n",
              "\n",
              "          const docLinkHtml = 'Like what you see? Visit the ' +\n",
              "            '<a target=\"_blank\" href=https://colab.research.google.com/notebooks/data_table.ipynb>data table notebook</a>'\n",
              "            + ' to learn more about interactive tables.';\n",
              "          element.innerHTML = '';\n",
              "          dataTable['output_type'] = 'display_data';\n",
              "          await google.colab.output.renderOutput(dataTable, element);\n",
              "          const docLink = document.createElement('div');\n",
              "          docLink.innerHTML = docLinkHtml;\n",
              "          element.appendChild(docLink);\n",
              "        }\n",
              "      </script>\n",
              "    </div>\n",
              "  </div>\n",
              "  "
            ],
            "text/plain": [
              "           id class\n",
              "0    TEST_000     A\n",
              "1    TEST_001     B\n",
              "2    TEST_002     C\n",
              "3    TEST_003     C\n",
              "4    TEST_004     A\n",
              "..        ...   ...\n",
              "170  TEST_170     B\n",
              "171  TEST_171     C\n",
              "172  TEST_172     C\n",
              "173  TEST_173     B\n",
              "174  TEST_174     B\n",
              "\n",
              "[175 rows x 2 columns]"
            ]
          },
          "execution_count": 26,
          "metadata": {},
          "output_type": "execute_result"
        }
      ],
      "source": [
        "submit"
      ]
    },
    {
      "cell_type": "code",
      "execution_count": null,
      "id": "58d59d36-c023-4ded-8734-bd7cef2efc01",
      "metadata": {
        "id": "58d59d36-c023-4ded-8734-bd7cef2efc01"
      },
      "outputs": [],
      "source": [
        "submit.to_csv('./answer/submit.csv', index=False)"
      ]
    }
  ],
  "metadata": {
    "accelerator": "GPU",
    "colab": {
      "provenance": []
    },
    "gpuClass": "standard",
    "kernelspec": {
      "display_name": "Python 3 (ipykernel)",
      "language": "python",
      "name": "python3"
    },
    "language_info": {
      "codemirror_mode": {
        "name": "ipython",
        "version": 3
      },
      "file_extension": ".py",
      "mimetype": "text/x-python",
      "name": "python",
      "nbconvert_exporter": "python",
      "pygments_lexer": "ipython3",
      "version": "3.8.3"
    }
  },
  "nbformat": 4,
  "nbformat_minor": 5
}
